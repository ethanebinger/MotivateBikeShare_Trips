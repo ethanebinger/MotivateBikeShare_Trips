{
 "cells": [
  {
   "cell_type": "code",
   "execution_count": 1,
   "id": "gross-mumbai",
   "metadata": {},
   "outputs": [],
   "source": [
    "import csv\n",
    "import json\n",
    "import datetime as datetime\n",
    "import pandas as pd\n",
    "import geopandas as gpd"
   ]
  },
  {
   "cell_type": "code",
   "execution_count": 2,
   "id": "orange-electric",
   "metadata": {},
   "outputs": [],
   "source": [
    "working_dir = r'../'\n",
    "data_files = [\n",
    "    '202011-baywheels-tripdata.csv',\n",
    "    '202012-baywheels-tripdata.csv',\n",
    "    '202101-baywheels-tripdata.csv'\n",
    "]"
   ]
  },
  {
   "cell_type": "markdown",
   "id": "proved-superintendent",
   "metadata": {},
   "source": [
    "### CSV to GeoJSON"
   ]
  },
  {
   "cell_type": "code",
   "execution_count": 34,
   "id": "refined-execution",
   "metadata": {},
   "outputs": [
    {
     "name": "stdout",
     "output_type": "stream",
     "text": [
      "reading csv: 202011-baywheels-tripdata.csv\n",
      "reading csv: 202012-baywheels-tripdata.csv\n",
      "reading csv: 202101-baywheels-tripdata.csv\n"
     ]
    }
   ],
   "source": [
    "for f in data_files:\n",
    "    print(\"reading csv: \" + f)\n",
    "    df = pd.read_csv(working_dir+\"/trip_data/\"+f)\n",
    "    \n",
    "    # pull origin stations\n",
    "    start_df = df[['start_station_name', 'start_station_id', 'start_lat', 'start_lng']].dropna()\n",
    "    start_df.columns = [\"station_id\", \"name\", \"lat\", \"lon\"]\n",
    "    \n",
    "    # pull destination stations\n",
    "    end_df = df[['end_station_name', 'end_station_id', 'end_lat', 'end_lng']].dropna()\n",
    "    end_df.columns = [\"station_id\", \"name\", \"lat\", \"lon\"]\n",
    "    \n",
    "    # merge and drop duplicates\n",
    "    df = start_df.append(end_df).drop_duplicates(subset=['station_id', 'name'], keep='first').reset_index(drop=True)\n",
    "    \n",
    "    # convert df to gdf and save to file\n",
    "    gdf = gpd.GeoDataFrame(df, geometry=gpd.points_from_xy(df.lon, df.lat))\n",
    "    gdf.to_file(working_dir+\"/geojson_data/stations_\"+f[:6]+\".geojson\", driver=\"GeoJSON\")"
   ]
  },
  {
   "cell_type": "markdown",
   "id": "graphic-progress",
   "metadata": {},
   "source": [
    "### Day Hour Heatmap by Station"
   ]
  },
  {
   "cell_type": "code",
   "execution_count": null,
   "id": "smooth-woman",
   "metadata": {},
   "outputs": [],
   "source": [
    "for f in data_files:\n",
    "    # collect stations\n",
    "    stations = []\n",
    "    with open(working_dir + \"/trip_data/\" + f, 'r') as csvfile:\n",
    "        reader = csv.DictReader(csvfile)\n",
    "        print(\"reading csv: \" + f)\n",
    "        for trip in reader:\n",
    "            try:\n",
    "                stations.append(int(trip['start_station_id']))\n",
    "            except ValueError:\n",
    "                continue\n",
    "        #end for\n",
    "    #end with\n",
    "    csvfile.close()\n",
    "    stations = list(set(stations))\n",
    "    \n",
    "    # create dict to store records per station (+1 for total column)\n",
    "    heatmap_dict = {}\n",
    "    for d in range(0,7):\n",
    "        for h in range(0,24):\n",
    "            heatmap_dict[(d,h)] = [x*0 for x in range(len(stations)+1)]\n",
    "        #end for\n",
    "    #end for\n",
    "    \n",
    "    # fill dict with data\n",
    "    with open(working_dir + \"/trip_data/\" + f, 'r') as csvfile:\n",
    "        reader = csv.DictReader(csvfile)\n",
    "        for trip in reader:\n",
    "            trip = dict(('start_time' if k=='started_at' else k, v) for k, v in trip.items())\n",
    "            start_time = str(trip['start_time'])\n",
    "            try:\n",
    "                station_id = int(trip['start_station_id'])\n",
    "                start_time = datetime.datetime.strptime(start_time, '%Y-%m-%d %H:%M:%S.%f')\n",
    "                start_dow = start_time.weekday()\n",
    "                start_hour = start_time.hour\n",
    "                #start_dow = int(trip['WEEKDAY'])\n",
    "                #start_hour = int(trip['HOUR'])\n",
    "                heatmap_dict[(start_dow, start_hour)][-1] += 1\n",
    "                heatmap_dict[(start_dow, start_hour)][stations.index(station_id)] += 1\n",
    "            except ValueError:\n",
    "                try:\n",
    "                    station_id = int(trip['start_station_id'])\n",
    "                    start_time = datetime.datetime.strptime(start_time, '%Y-%m-%d %H:%M:%S')\n",
    "                    start_dow = start_time.weekday()\n",
    "                    start_hour = start_time.hour\n",
    "                    heatmap_dict[(start_dow, start_hour)][-1] += 1\n",
    "                    heatmap_dict[(start_dow, start_hour)][stations.index(station_id)] += 1\n",
    "                except ValueError:\n",
    "                    pass\n",
    "                #end try\n",
    "            #end try\n",
    "        #end for\n",
    "    #end with\n",
    "    csvfile.close()\n",
    "    \n",
    "    # write to CSV\n",
    "    with open(working_dir+ \"/heatmap_data/heatmap_data_\"+f[:6]+\".csv\", \"w\") as csv_file:\n",
    "        writer = csv.writer(csv_file, lineterminator='\\n')\n",
    "        #data_files_trunc = [x[:6] for x in data_files]\n",
    "        writer.writerow([\"day\"] + [\"hour\"] + stations + [\"total\"])\n",
    "        for d in range(0,7):\n",
    "            for h in range(0,24):\n",
    "                writer.writerow([d] + [h] + heatmap_dict[(d,h)])\n",
    "            #end for\n",
    "        #end for\n",
    "    #end with\n",
    "#end for"
   ]
  },
  {
   "cell_type": "markdown",
   "id": "worse-damages",
   "metadata": {},
   "source": [
    "### Links by Origin Parser"
   ]
  },
  {
   "cell_type": "code",
   "execution_count": null,
   "id": "detailed-turkish",
   "metadata": {},
   "outputs": [],
   "source": [
    "def is_number(s):\n",
    "    try:\n",
    "        float(s)\n",
    "        return True\n",
    "    except ValueError:\n",
    "        return False"
   ]
  },
  {
   "cell_type": "code",
   "execution_count": null,
   "id": "soviet-alberta",
   "metadata": {},
   "outputs": [],
   "source": [
    "for f in data_files:\n",
    "    linksByOrigin = {}\n",
    "    od_pairs = []\n",
    "    year = int(f[:4])\n",
    "    with open(working_dir + \"/trip_data/\" + f, 'r') as csvfile:\n",
    "        reader = csv.DictReader(csvfile)\n",
    "        print(\"read csv: \" + f)\n",
    "        for trip in reader:\n",
    "            try:\n",
    "                origin = trip['start_station_id']\n",
    "            except ValueError:\n",
    "                continue\n",
    "            #end try\n",
    "            destination = trip['end_station_id']\n",
    "            if origin not in linksByOrigin:\n",
    "                linksByOrigin[origin] = []\n",
    "            #end if\n",
    "            links = linksByOrigin[origin]\n",
    "            if [origin, destination] in od_pairs:\n",
    "                for x in links:\n",
    "                    if x['source']==origin and x['target']==destination:\n",
    "                        x['count'] += 1\n",
    "                    #end if\n",
    "                #end for\n",
    "            elif [origin, destination] not in od_pairs:\n",
    "                links.append({\n",
    "                    'source': origin, \n",
    "                    'target': destination,\n",
    "                    'count': 1\n",
    "                })\n",
    "                od_pairs.append([origin, destination])\n",
    "            #end if\n",
    "        #end for\n",
    "    #end with\n",
    "    csvfile.close()\n",
    "    \n",
    "    # write to json\n",
    "    with open(working_dir + \"/json_data/\" + f[:6] + \"-tripdata.json\", \"w\") as jsonfile:\n",
    "        json.dump([linksByOrigin], jsonfile)\n",
    "    jsonfile.close()\n",
    "    print(\"saved as json: \" + f[:6] + \"-tripdata.json\")\n",
    "#end for"
   ]
  }
 ],
 "metadata": {
  "kernelspec": {
   "display_name": "Python 3",
   "language": "python",
   "name": "python3"
  },
  "language_info": {
   "codemirror_mode": {
    "name": "ipython",
    "version": 3
   },
   "file_extension": ".py",
   "mimetype": "text/x-python",
   "name": "python",
   "nbconvert_exporter": "python",
   "pygments_lexer": "ipython3",
   "version": "3.7.6"
  }
 },
 "nbformat": 4,
 "nbformat_minor": 5
}
