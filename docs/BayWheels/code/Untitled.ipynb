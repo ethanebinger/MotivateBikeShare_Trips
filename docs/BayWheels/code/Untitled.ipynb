{
 "cells": [
  {
   "cell_type": "markdown",
   "metadata": {},
   "source": [
    "## Initialize"
   ]
  },
  {
   "cell_type": "code",
   "execution_count": 1,
   "metadata": {},
   "outputs": [],
   "source": [
    "import csv\n",
    "import json\n",
    "import geojson\n",
    "import requests\n",
    "import pandas as pd\n",
    "import geopandas as gpd\n",
    "from datetime import datetime"
   ]
  },
  {
   "cell_type": "code",
   "execution_count": 2,
   "metadata": {},
   "outputs": [],
   "source": [
    "gbfs_stations = r'https://gbfs.fordgobike.com/gbfs/en/station_information.json'\n",
    "gbfs_regions = r'https://gbfs.fordgobike.com/gbfs/en/system_regions.json'"
   ]
  },
  {
   "cell_type": "markdown",
   "metadata": {},
   "source": [
    "## OD trips per month\n",
    ".csv --> .json"
   ]
  },
  {
   "cell_type": "code",
   "execution_count": 3,
   "metadata": {},
   "outputs": [],
   "source": [
    "data_files = [\n",
    "    '201906-baywheels-tripdata.csv',\n",
    "    '201907-baywheels-tripdata.csv',\n",
    "    '201908-baywheels-tripdata.csv',\n",
    "    '201909-baywheels-tripdata.csv',\n",
    "    '201910-baywheels-tripdata.csv',\n",
    "    '201911-baywheels-tripdata.csv',\n",
    "    '201912-baywheels-tripdata.csv',\n",
    "    '202001-baywheels-tripdata.csv'\n",
    "]"
   ]
  },
  {
   "cell_type": "code",
   "execution_count": 4,
   "metadata": {},
   "outputs": [],
   "source": [
    "def is_number(s):\n",
    "    try:\n",
    "        float(s)\n",
    "        return True\n",
    "    except ValueError:\n",
    "        return False"
   ]
  },
  {
   "cell_type": "code",
   "execution_count": 5,
   "metadata": {},
   "outputs": [],
   "source": [
    "def od_trips_json(f):\n",
    "    linksByOrigin = {}\n",
    "    od_pairs = []\n",
    "    year = int(f[:4])\n",
    "    \n",
    "    with open(\"../trip_data/\" + f, 'r') as csvfile:\n",
    "        reader = csv.DictReader(csvfile)\n",
    "        print(\"read csv: \" + f)\n",
    "        \n",
    "        for trip in reader:\n",
    "            try:\n",
    "                origin = trip['start_station_id']\n",
    "            except ValueError:\n",
    "                continue\n",
    "            destination = trip['end_station_id']\n",
    "            \n",
    "            if origin not in linksByOrigin:\n",
    "                linksByOrigin[origin] = []\n",
    "            links = linksByOrigin[origin]\n",
    "            \n",
    "            if [origin, destination] in od_pairs:\n",
    "                for x in links:\n",
    "                    if x['source']==origin and x['target']==destination:\n",
    "                        x['count'] += 1\n",
    "                        #x['avg_duration'] += int(trip['tripduration'])\n",
    "                        #x['avg_age'] += year-int(trip['birth year']) if is_number(trip['birth year']) else 0\n",
    "                        #x['pct_female'] += float(trip['gender'])-1.0 if is_number(trip['birth year']) else 0\n",
    "                        #x['count_demog'] += 1 if is_number(trip['birth year']) else 0\n",
    "                        #x['pct_subscriber'] += 1 if trip['usertype']=='Subscriber' else 0\n",
    "            elif [origin, destination] not in od_pairs:\n",
    "                links.append({\n",
    "                    'source': origin, \n",
    "                    'target': destination,\n",
    "                    'count': 1#,\n",
    "                    #'avg_duration': int(trip['tripduration']),\n",
    "                    #'avg_age': year-int(trip['birth year']) if is_number(trip['birth year']) else 0,\n",
    "                    #'pct_female': float(trip['gender'])-1.0 if is_number(trip['birth year']) else 0,\n",
    "                    #'count_demog': 1 if is_number(trip['birth year']) else 0,\n",
    "                    #'pct_subscriber': 1 if trip['usertype']=='Subscriber' else 0\n",
    "                })\n",
    "                od_pairs.append([origin, destination])\n",
    "\n",
    "    csvfile.close()\n",
    "    \n",
    "    # get average values within linksByOrigin\n",
    "#     for key in linksByOrigin.keys():\n",
    "#         for x in linksByOrigin[key]:\n",
    "#             x['avg_duration'] = x['avg_duration']/x['count']\n",
    "#             x['avg_age'] = x['avg_age']/x['count_demog'] if x['count_demog'] > 0 else x['avg_age']\n",
    "#             x['pct_female'] = x['pct_female']/x['count_demog'] if x['count_demog'] > 0 else x['pct_female']\n",
    "#             x['pct_subscriber'] = x['pct_subscriber']/x['count']\n",
    "#             del x['count_demog']\n",
    "    \n",
    "    with open(\"../json_data/\" + f[:6] + \"-tripdata.json\", \"w\") as jsonfile:\n",
    "        json.dump([linksByOrigin], jsonfile)\n",
    "    \n",
    "    jsonfile.close()\n",
    "    \n",
    "    print(\"saved as json: \" + f[:6] + \"-tripdata.json\")"
   ]
  },
  {
   "cell_type": "markdown",
   "metadata": {},
   "source": [
    "## Stations per month\n",
    ".csv --> .geojson"
   ]
  },
  {
   "cell_type": "code",
   "execution_count": 6,
   "metadata": {},
   "outputs": [],
   "source": [
    "def stations_geojson(f):\n",
    "    # read in CSV\n",
    "    print(\"read csv: \" + f)\n",
    "    trips = pd.read_csv(\"../trip_data/\" + f)\n",
    "\n",
    "    # subset data for only origins and relevant columns\n",
    "    trips_start = trips[['start_station_id', 'start_station_name', 'start_station_latitude', 'start_station_longitude']]\n",
    "    trips_start.columns = ['station_id', 'name', 'lat', 'lon']\n",
    "\n",
    "    # subset data for only destinations and relevant columns\n",
    "    trips_end = trips[['end_station_id', 'end_station_name', 'end_station_latitude', 'end_station_longitude']]\n",
    "    trips_end.columns = ['station_id', 'name', 'lat', 'lon']\n",
    "\n",
    "    # join origins and destinations, filter to only include unique/non-null values\n",
    "    trips = trips_start.append(trips_end)\n",
    "    trips.dropna(inplace=True)\n",
    "    trips.drop_duplicates(inplace=True)\n",
    "    \n",
    "    # turn data into geospatial dataframe\n",
    "    trips_gdf = gpd.GeoDataFrame(trips, geometry=gpd.points_from_xy(trips.lon, trips.lat))\n",
    "    \n",
    "    # save data to file\n",
    "    trips_gdf.to_file(driver='GeoJSON', filename=\"../geojson_data/stations_\"+f[:6]+\".geojson\")\n",
    "    print(\"saved as geojson: stations_\" + f[:6] + \".geojson\")"
   ]
  },
  {
   "cell_type": "markdown",
   "metadata": {},
   "source": [
    "## Heatmap of trips per month\n",
    ".csv --> .csv"
   ]
  },
  {
   "cell_type": "code",
   "execution_count": 18,
   "metadata": {},
   "outputs": [],
   "source": [
    "def heatmap_csv(f):\n",
    "    \n",
    "    # collect stations\n",
    "    print(\"read csv: \" + f)\n",
    "    trips = pd.read_csv(\"../trip_data/\" + f)\n",
    "    stations = trips[trips.start_station_id.notna()].start_station_id.astype(int).unique()\n",
    "    stations = list(set(stations))\n",
    "    \n",
    "    # create dict to store records per station (+1 for total column)\n",
    "    heatmap_dict = {}\n",
    "    for d in range(0,7):\n",
    "        for h in range(0,24):\n",
    "            heatmap_dict[(d,h)] = [x*0 for x in range(len(stations)+1)]\n",
    "    \n",
    "    # fill dict with data\n",
    "    with open(\"../trip_data/\" + f, 'r') as csvfile:\n",
    "        reader = csv.DictReader(csvfile)\n",
    "        for trip in reader:\n",
    "            start_time = str(trip['start_time'])\n",
    "            try:\n",
    "                station_id = int(trip['start_station_id'])\n",
    "                start_time = datetime.strptime(start_time, '%Y-%m-%d %H:%M:%S.%f')\n",
    "                start_dow = start_time.weekday()\n",
    "                start_hour = start_time.hour\n",
    "                #start_dow = int(trip['WEEKDAY'])\n",
    "                #start_hour = int(trip['HOUR'])\n",
    "                heatmap_dict[(start_dow, start_hour)][-1] += 1\n",
    "                heatmap_dict[(start_dow, start_hour)][stations.index(station_id)] += 1\n",
    "            except ValueError:\n",
    "                try:\n",
    "                    station_id = int(trip['start_station_id'])\n",
    "                    start_time = datetime.strptime(start_time, '%Y-%m-%d %H:%M:%S')\n",
    "                    start_dow = start_time.weekday()\n",
    "                    start_hour = start_time.hour\n",
    "                    heatmap_dict[(start_dow, start_hour)][-1] += 1\n",
    "                    heatmap_dict[(start_dow, start_hour)][stations.index(station_id)] += 1\n",
    "                except ValueError:\n",
    "                    pass\n",
    "    csvfile.close()\n",
    "    \n",
    "    # write to CSV\n",
    "    with open(\"../heatmap_data/heatmap_data_\"+f[:6]+\".csv\", \"w\", newline='') as csv_file:\n",
    "        writer = csv.writer(csv_file)\n",
    "        #data_files_trunc = [x[:6] for x in data_files]\n",
    "        stations = [str(i) for i in stations]\n",
    "        writer.writerow([\"day\"] + [\"hour\"] + stations + [\"total\"])\n",
    "        for d in range(0,7):\n",
    "            for h in range(0,24):\n",
    "                writer.writerow([d] + [h] + heatmap_dict[(d,h)])\n",
    "    print(\"saved heatmap as: heatmap_data_\"+f[:6]+\".csv\")"
   ]
  },
  {
   "cell_type": "markdown",
   "metadata": {},
   "source": [
    "## RUN"
   ]
  },
  {
   "cell_type": "code",
   "execution_count": 20,
   "metadata": {},
   "outputs": [
    {
     "name": "stdout",
     "output_type": "stream",
     "text": [
      "read csv: 201907-baywheels-tripdata.csv\n",
      "saved as json: 201907-tripdata.json\n",
      "read csv: 201907-baywheels-tripdata.csv\n",
      "saved as geojson: stations_201907.geojson\n",
      "read csv: 201907-baywheels-tripdata.csv\n",
      "saved heatmap as: heatmap_data_201907.csv\n",
      "read csv: 201908-baywheels-tripdata.csv\n",
      "saved as json: 201908-tripdata.json\n",
      "read csv: 201908-baywheels-tripdata.csv\n",
      "saved as geojson: stations_201908.geojson\n",
      "read csv: 201908-baywheels-tripdata.csv\n",
      "saved heatmap as: heatmap_data_201908.csv\n",
      "read csv: 201909-baywheels-tripdata.csv\n",
      "saved as json: 201909-tripdata.json\n",
      "read csv: 201909-baywheels-tripdata.csv\n",
      "saved as geojson: stations_201909.geojson\n",
      "read csv: 201909-baywheels-tripdata.csv\n",
      "saved heatmap as: heatmap_data_201909.csv\n",
      "read csv: 201910-baywheels-tripdata.csv\n",
      "saved as json: 201910-tripdata.json\n",
      "read csv: 201910-baywheels-tripdata.csv\n",
      "saved as geojson: stations_201910.geojson\n",
      "read csv: 201910-baywheels-tripdata.csv\n",
      "saved heatmap as: heatmap_data_201910.csv\n",
      "read csv: 201911-baywheels-tripdata.csv\n",
      "saved as json: 201911-tripdata.json\n",
      "read csv: 201911-baywheels-tripdata.csv\n",
      "saved as geojson: stations_201911.geojson\n",
      "read csv: 201911-baywheels-tripdata.csv\n",
      "saved heatmap as: heatmap_data_201911.csv\n",
      "read csv: 201912-baywheels-tripdata.csv\n",
      "saved as json: 201912-tripdata.json\n",
      "read csv: 201912-baywheels-tripdata.csv\n",
      "saved as geojson: stations_201912.geojson\n",
      "read csv: 201912-baywheels-tripdata.csv\n",
      "saved heatmap as: heatmap_data_201912.csv\n",
      "read csv: 202001-baywheels-tripdata.csv\n",
      "saved as json: 202001-tripdata.json\n",
      "read csv: 202001-baywheels-tripdata.csv\n",
      "saved as geojson: stations_202001.geojson\n",
      "read csv: 202001-baywheels-tripdata.csv\n",
      "saved heatmap as: heatmap_data_202001.csv\n"
     ]
    }
   ],
   "source": [
    "for f in data_files[1:]:\n",
    "    od_trips_json(f)\n",
    "    stations_geojson(f)\n",
    "    heatmap_csv(f)"
   ]
  },
  {
   "cell_type": "code",
   "execution_count": null,
   "metadata": {},
   "outputs": [],
   "source": []
  }
 ],
 "metadata": {
  "kernelspec": {
   "display_name": "Python 3",
   "language": "python",
   "name": "python3"
  },
  "language_info": {
   "codemirror_mode": {
    "name": "ipython",
    "version": 3
   },
   "file_extension": ".py",
   "mimetype": "text/x-python",
   "name": "python",
   "nbconvert_exporter": "python",
   "pygments_lexer": "ipython3",
   "version": "3.7.6"
  }
 },
 "nbformat": 4,
 "nbformat_minor": 4
}
